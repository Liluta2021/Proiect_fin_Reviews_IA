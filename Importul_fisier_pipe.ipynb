{
 "cells": [
  {
   "cell_type": "code",
   "execution_count": 7,
   "id": "2c38f148",
   "metadata": {},
   "outputs": [],
   "source": [
    "from sklearn.base import BaseEstimator, TransformerMixin\n",
    "class TextNormalizer(BaseEstimator, TransformerMixin):\n",
    "    def fit(self, X, y=None):\n",
    "        return self\n",
    "        \n",
    "    def transform(self, X, y=None):\n",
    "        X_copy = X.copy()\n",
    "        for i in range(len(X_copy)):\n",
    "            X_copy[i] = str(X_copy[i]).lower()\n",
    "            X_copy[i] = X_copy[i].replace('\\n',' ')\n",
    "            X_copy[i] = X_copy[i].replace('\\r',' ')\n",
    "            X_copy[i] = X_copy[i].strip()\n",
    "        return X_copy"
   ]
  },
  {
   "cell_type": "code",
   "execution_count": 8,
   "id": "98518425",
   "metadata": {},
   "outputs": [],
   "source": [
    "class WordExtractor(BaseEstimator, TransformerMixin):\n",
    "    def __init__(self, language, tokenize):\n",
    "        self.language = language\n",
    "        self.stopwords = stopwords.words(self.language)\n",
    "        self.tokenize = tokenize\n",
    "        \n",
    "    def fit(self, X, y=None):\n",
    "        general_freq = FreqDist()\n",
    "        for txt in X:\n",
    "            freq_dist = FreqDist(self.tokenize(txt))\n",
    "            general_freq.update(freq_dist)\n",
    "        self.hapaxes = general_freq.hapaxes()\n",
    "        return self\n",
    "    \n",
    "    def transform(self, X, y=None):\n",
    "        X_copy = X.copy()\n",
    "        for i in range(len(X_copy)):\n",
    "            X_copy[i] = ' '.join([token for token in self.tokenize(X_copy[i])\n",
    "                            if token not in self.stopwords and\n",
    "                            token not in self.hapaxes])\n",
    "        return X_copy"
   ]
  },
  {
   "cell_type": "code",
   "execution_count": 9,
   "id": "8d00fffb",
   "metadata": {},
   "outputs": [],
   "source": [
    "class ApplyStemmer(BaseEstimator, TransformerMixin):\n",
    "    def __init__(self, stemmer, tokenize):\n",
    "        self.stemmer = stemmer\n",
    "        self.tokenize = tokenize\n",
    "        \n",
    "    def fit(self, X, y=None):\n",
    "        return self\n",
    "    \n",
    "    def transform(self, X, y=None):\n",
    "        X_copy = X.copy()\n",
    "        for i in range(len(X_copy)):\n",
    "            X_copy[i] = ' '.join([self.stemmer.stem(token)\n",
    "                                  for token in self.tokenize(X_copy[i])])\n",
    "        return X_copy"
   ]
  },
  {
   "cell_type": "code",
   "execution_count": 10,
   "id": "3bdac385",
   "metadata": {},
   "outputs": [],
   "source": [
    "import pickle\n",
    "model = pickle.load(open('pipe.pkl', 'rb'))"
   ]
  },
  {
   "cell_type": "code",
   "execution_count": 12,
   "id": "37a92efb",
   "metadata": {},
   "outputs": [
    {
     "data": {
      "text/plain": [
       "array([1], dtype=int64)"
      ]
     },
     "execution_count": 12,
     "metadata": {},
     "output_type": "execute_result"
    }
   ],
   "source": [
    "model.predict(['Free stuff online'])"
   ]
  },
  {
   "cell_type": "code",
   "execution_count": null,
   "id": "57394a11",
   "metadata": {},
   "outputs": [],
   "source": []
  }
 ],
 "metadata": {
  "kernelspec": {
   "display_name": "Python 3",
   "language": "python",
   "name": "python3"
  },
  "language_info": {
   "codemirror_mode": {
    "name": "ipython",
    "version": 3
   },
   "file_extension": ".py",
   "mimetype": "text/x-python",
   "name": "python",
   "nbconvert_exporter": "python",
   "pygments_lexer": "ipython3",
   "version": "3.7.8"
  }
 },
 "nbformat": 4,
 "nbformat_minor": 5
}
